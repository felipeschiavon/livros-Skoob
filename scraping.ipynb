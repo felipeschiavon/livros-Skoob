{
 "cells": [
  {
   "cell_type": "code",
   "execution_count": null,
   "metadata": {},
   "outputs": [],
   "source": [
    "import requests as rq\n",
    "import bs4 as bs4\n",
    "import time\n",
    "import json\n",
    "import pandas as pd\n",
    "import numpy as np\n",
    "import math"
   ]
  },
  {
   "cell_type": "markdown",
   "metadata": {},
   "source": [
    "# Parte 1: Editoras"
   ]
  },
  {
   "cell_type": "code",
   "execution_count": null,
   "metadata": {},
   "outputs": [],
   "source": [
    "# Url onde estão todas as editoras\n",
    "\n",
    "url_editoras = 'https://www.skoob.com.br/editoras/'"
   ]
  },
  {
   "cell_type": "code",
   "execution_count": null,
   "metadata": {},
   "outputs": [],
   "source": [
    "# Fazendo request do link e transformando em um objeto do bs4\n",
    "\n",
    "response = rq.get(url_editoras)\n",
    "pagina_html = bs4.BeautifulSoup(response.text)"
   ]
  },
  {
   "cell_type": "code",
   "execution_count": null,
   "metadata": {},
   "outputs": [],
   "source": [
    "# Procurando tags\n",
    "\n",
    "tags = pagina_html.findAll(id=\"resultadoBusca-\")\n",
    "editoras = tags[0].findAll('strong')\n",
    "\n",
    "lista_editoras = []\n",
    "lista_links = []\n",
    "\n",
    "for x in editoras:\n",
    "    if x.find('a') != None:\n",
    "        editora = x.get_text()\n",
    "        lista_editoras.append(editora)\n",
    "        \n",
    "        link = x.find('a').get('href')\n",
    "        lista_links.append(link)\n",
    "        \n",
    "livros_editora = []\n",
    "numero_livros = tags[0].findAll('span')\n",
    "\n",
    "for livros in range(1, len(numero_livros), 8):\n",
    "    n_livros = numero_livros[livros].get_text().split()[0]\n",
    "    n_livros = n_livros.replace('.', '')\n",
    "    livros_editora.append(n_livros)"
   ]
  },
  {
   "cell_type": "code",
   "execution_count": null,
   "metadata": {},
   "outputs": [],
   "source": [
    "# Criando dataframe que armazenará os dados\n",
    "\n",
    "df = pd.DataFrame()\n",
    "df['editora'] = lista_editoras\n",
    "df['link'] = lista_links\n",
    "df['qtde_livros'] = livros_editora"
   ]
  },
  {
   "cell_type": "code",
   "execution_count": null,
   "metadata": {},
   "outputs": [],
   "source": [
    "# Função para ser aplicada em cada linha do dataframe na coluna código\n",
    "# Parâmetro x: string -> link da editora\n",
    "# Irá retornar o código da editora\n",
    "\n",
    "def codigo(x):\n",
    "    return x.split('/')[-1].split('-')[0]\n",
    "\n",
    "codigos = df_editoras['link'].apply(codigo)\n",
    "df['codigo'] = codigos"
   ]
  },
  {
   "cell_type": "code",
   "execution_count": null,
   "metadata": {},
   "outputs": [],
   "source": [
    "# Dataframe com as editoras\n",
    "df.to_csv('./editoras_link.csv', index=False)"
   ]
  },
  {
   "cell_type": "code",
   "execution_count": null,
   "metadata": {},
   "outputs": [],
   "source": [
    "df"
   ]
  },
  {
   "cell_type": "markdown",
   "metadata": {},
   "source": [
    "# Parte 2: Livros das Editoras\n"
   ]
  },
  {
   "cell_type": "markdown",
   "metadata": {},
   "source": [
    "Os livros de cada editora estão no link : \"https://www.skoob.com.br/editora/livros/codigoDeCadaEditora\"  \n",
    "É necessário o código de cada editora para entrar na página dos livros. Os códigos são os números da coluna link do df_editoras"
   ]
  },
  {
   "cell_type": "code",
   "execution_count": null,
   "metadata": {},
   "outputs": [],
   "source": [
    "lista_livros = []\n",
    "lista_livros_link = []\n",
    "\n",
    "for index, row in df.iterrows():\n",
    "    print('--------------------------')\n",
    "    print(df['editora'][index])\n",
    "    \n",
    "    \n",
    "    url_base = 'https://www.skoob.com.br/editora/livros/{}/mpage:{}'\n",
    "    \n",
    "    # Número de páginas com livros \n",
    "    n_page = math.ceil(int(df['qtde_livros'][index])/40) + 1\n",
    "    \n",
    "    for x in range(1, n_page):\n",
    "        print(x)\n",
    "        url_livros = url_base.format(df['codigo'][index], x)\n",
    "        \n",
    "        response = rq.get(url_livros)\n",
    "        pagina_html = bs4.BeautifulSoup(response.text)\n",
    "        \n",
    "        lista_div = pagina_html.findAll(\"div\", {\"class\": \"box_livro\"})\n",
    "        \n",
    "        for x in lista_div:\n",
    "            titulo = x.find('h3').get_text()\n",
    "            link = x.find('a').get('href')\n",
    "            \n",
    "            lista_livros.append(titulo)\n",
    "            lista_livros_link.append(link)\n",
    "        \n",
    "        time.sleep(1)\n"
   ]
  },
  {
   "cell_type": "code",
   "execution_count": null,
   "metadata": {},
   "outputs": [],
   "source": [
    "len(lista_livros), len(lista_livros_link)"
   ]
  },
  {
   "cell_type": "code",
   "execution_count": null,
   "metadata": {},
   "outputs": [],
   "source": [
    "df = pd.DataFrame()\n",
    "df['livros'] = lista_livros\n",
    "df['link'] = lista_livros_link"
   ]
  },
  {
   "cell_type": "code",
   "execution_count": 156,
   "metadata": {},
   "outputs": [],
   "source": [
    "# Dataframe com as editoras\n",
    "df.to_csv('./livros_link.csv', index=False)"
   ]
  },
  {
   "cell_type": "code",
   "execution_count": 157,
   "metadata": {},
   "outputs": [
    {
     "data": {
      "text/html": [
       "<div>\n",
       "<style scoped>\n",
       "    .dataframe tbody tr th:only-of-type {\n",
       "        vertical-align: middle;\n",
       "    }\n",
       "\n",
       "    .dataframe tbody tr th {\n",
       "        vertical-align: top;\n",
       "    }\n",
       "\n",
       "    .dataframe thead th {\n",
       "        text-align: right;\n",
       "    }\n",
       "</style>\n",
       "<table border=\"1\" class=\"dataframe\">\n",
       "  <thead>\n",
       "    <tr style=\"text-align: right;\">\n",
       "      <th></th>\n",
       "      <th>livros</th>\n",
       "      <th>link</th>\n",
       "    </tr>\n",
       "  </thead>\n",
       "  <tbody>\n",
       "    <tr>\n",
       "      <th>0</th>\n",
       "      <td>Orçamento sem falhas</td>\n",
       "      <td>/orcamento-sem-falhas-11677985ed11693528.html</td>\n",
       "    </tr>\n",
       "    <tr>\n",
       "      <th>1</th>\n",
       "      <td>Minha Sombria Vanessa</td>\n",
       "      <td>/minha-sombria-vanessa-1022974ed1025216.html</td>\n",
       "    </tr>\n",
       "    <tr>\n",
       "      <th>2</th>\n",
       "      <td>Recursão</td>\n",
       "      <td>/recursao-980390ed1030802.html</td>\n",
       "    </tr>\n",
       "    <tr>\n",
       "      <th>3</th>\n",
       "      <td>M, o Filho do Século</td>\n",
       "      <td>/m-o-filho-do-seculo-1028489ed1030829.html</td>\n",
       "    </tr>\n",
       "    <tr>\n",
       "      <th>4</th>\n",
       "      <td>Oblivion Song: Entre Dois Mundos</td>\n",
       "      <td>/oblivion-song-entre-dois-mundos-1030237ed1032...</td>\n",
       "    </tr>\n",
       "    <tr>\n",
       "      <th>...</th>\n",
       "      <td>...</td>\n",
       "      <td>...</td>\n",
       "    </tr>\n",
       "    <tr>\n",
       "      <th>11994</th>\n",
       "      <td>Poemas completos de Alberto Caeiro</td>\n",
       "      <td>/poemas-completos-de-alberto-caeiro-1069ed1420...</td>\n",
       "    </tr>\n",
       "    <tr>\n",
       "      <th>11995</th>\n",
       "      <td>Poesia de Álvaro de Campos</td>\n",
       "      <td>/poesia-de-alvaro-de-campos-26706ed55518.html</td>\n",
       "    </tr>\n",
       "    <tr>\n",
       "      <th>11996</th>\n",
       "      <td>Ben-Hur</td>\n",
       "      <td>/ben-hur-538ed23492.html</td>\n",
       "    </tr>\n",
       "    <tr>\n",
       "      <th>11997</th>\n",
       "      <td>Folhas de Relva</td>\n",
       "      <td>/folhas-de-relva-274ed376.html</td>\n",
       "    </tr>\n",
       "    <tr>\n",
       "      <th>11998</th>\n",
       "      <td>O sermão da montanha</td>\n",
       "      <td>/o-sermao-da-montanha-6056ed11671460.html</td>\n",
       "    </tr>\n",
       "  </tbody>\n",
       "</table>\n",
       "<p>11999 rows × 2 columns</p>\n",
       "</div>"
      ],
      "text/plain": [
       "                                   livros  \\\n",
       "0                    Orçamento sem falhas   \n",
       "1                   Minha Sombria Vanessa   \n",
       "2                                Recursão   \n",
       "3                    M, o Filho do Século   \n",
       "4        Oblivion Song: Entre Dois Mundos   \n",
       "...                                   ...   \n",
       "11994  Poemas completos de Alberto Caeiro   \n",
       "11995          Poesia de Álvaro de Campos   \n",
       "11996                             Ben-Hur   \n",
       "11997                     Folhas de Relva   \n",
       "11998                O sermão da montanha   \n",
       "\n",
       "                                                    link  \n",
       "0          /orcamento-sem-falhas-11677985ed11693528.html  \n",
       "1           /minha-sombria-vanessa-1022974ed1025216.html  \n",
       "2                         /recursao-980390ed1030802.html  \n",
       "3             /m-o-filho-do-seculo-1028489ed1030829.html  \n",
       "4      /oblivion-song-entre-dois-mundos-1030237ed1032...  \n",
       "...                                                  ...  \n",
       "11994  /poemas-completos-de-alberto-caeiro-1069ed1420...  \n",
       "11995      /poesia-de-alvaro-de-campos-26706ed55518.html  \n",
       "11996                           /ben-hur-538ed23492.html  \n",
       "11997                     /folhas-de-relva-274ed376.html  \n",
       "11998          /o-sermao-da-montanha-6056ed11671460.html  \n",
       "\n",
       "[11999 rows x 2 columns]"
      ]
     },
     "execution_count": 157,
     "metadata": {},
     "output_type": "execute_result"
    }
   ],
   "source": [
    "df"
   ]
  },
  {
   "cell_type": "markdown",
   "metadata": {},
   "source": [
    "## Editora AllBook"
   ]
  },
  {
   "cell_type": "code",
   "execution_count": null,
   "metadata": {},
   "outputs": [],
   "source": [
    "url_livros = 'https://www.skoob.com.br/editora/livros/11/mpage:34'"
   ]
  },
  {
   "cell_type": "code",
   "execution_count": null,
   "metadata": {},
   "outputs": [],
   "source": [
    "response = rq.get(url_livros)\n",
    "pagina_html = bs4.BeautifulSoup(response.text)"
   ]
  },
  {
   "cell_type": "code",
   "execution_count": null,
   "metadata": {},
   "outputs": [],
   "source": [
    "lista_div = pagina_html.findAll(\"div\", {\"class\": \"box_livro\"})\n",
    "\n",
    "    "
   ]
  },
  {
   "cell_type": "code",
   "execution_count": null,
   "metadata": {},
   "outputs": [],
   "source": [
    "for x in lista_div:\n",
    "    titulo = x.find('h3').get_text()\n",
    "    link = x.find('a').get('href')"
   ]
  },
  {
   "cell_type": "code",
   "execution_count": null,
   "metadata": {},
   "outputs": [],
   "source": [
    "lista_div"
   ]
  },
  {
   "cell_type": "code",
   "execution_count": null,
   "metadata": {},
   "outputs": [],
   "source": []
  }
 ],
 "metadata": {
  "kernelspec": {
   "display_name": "Python 3",
   "language": "python",
   "name": "python3"
  },
  "language_info": {
   "codemirror_mode": {
    "name": "ipython",
    "version": 3
   },
   "file_extension": ".py",
   "mimetype": "text/x-python",
   "name": "python",
   "nbconvert_exporter": "python",
   "pygments_lexer": "ipython3",
   "version": "3.8.5"
  }
 },
 "nbformat": 4,
 "nbformat_minor": 4
}
